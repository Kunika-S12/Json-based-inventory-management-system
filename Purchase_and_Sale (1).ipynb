{
  "nbformat": 4,
  "nbformat_minor": 0,
  "metadata": {
    "colab": {
      "name": "Purchase_and_Sale.ipynb",
      "provenance": [],
      "collapsed_sections": []
    },
    "kernelspec": {
      "name": "python3",
      "display_name": "Python 3"
    },
    "language_info": {
      "name": "python"
    }
  },
  "cells": [
    {
      "cell_type": "markdown",
      "metadata": {
        "id": "hVCpq7Bqe-OT"
      },
      "source": [
        "#Read File"
      ]
    },
    {
      "cell_type": "code",
      "metadata": {
        "id": "QyIR109qfI5x"
      },
      "source": [
        "import json\n"
      ],
      "execution_count": null,
      "outputs": []
    },
    {
      "cell_type": "code",
      "metadata": {
        "id": "MAio_4D9g0Il"
      },
      "source": [
        "fd= open(\"/content/Record .json\",'r')\n",
        "r= fd.read()\n",
        "fd.close()"
      ],
      "execution_count": null,
      "outputs": []
    },
    {
      "cell_type": "code",
      "metadata": {
        "id": "2RW3NsJ6hRi7"
      },
      "source": [
        "Record= json.loads(r)"
      ],
      "execution_count": null,
      "outputs": []
    },
    {
      "cell_type": "code",
      "metadata": {
        "colab": {
          "base_uri": "https://localhost:8080/"
        },
        "id": "TIRP22UzhkNT",
        "outputId": "b68efe63-9c8f-4016-cdd6-da512753b911"
      },
      "source": [
        "Record"
      ],
      "execution_count": null,
      "outputs": [
        {
          "output_type": "execute_result",
          "data": {
            "text/plain": [
              "{'1001': {'Price': 46,\n",
              "  'Quantity': 50,\n",
              "  'Weight': '1kg',\n",
              "  'category': 'cereals',\n",
              "  'name': 'wheat'},\n",
              " '1002': {'Price': 52,\n",
              "  'Quantity': 30,\n",
              "  'Weight': '1kg',\n",
              "  'category': 'cereals',\n",
              "  'name': 'rice'},\n",
              " '1003': {'Price': 95,\n",
              "  'Quantity': 35,\n",
              "  'Weight': '1kg',\n",
              "  'category': 'pulses',\n",
              "  'name': 'toor dal'},\n",
              " '1004': {'Price': 50,\n",
              "  'Quantity': 50,\n",
              "  'Weight': '100gm',\n",
              "  'category': 'Bakery product',\n",
              "  'name': 'Bread'},\n",
              " '1005': {'Price': 250,\n",
              "  'Quantity': 20,\n",
              "  'Weight': '6pcs',\n",
              "  'category': 'Crockery',\n",
              "  'name': 'Cup'},\n",
              " '1006': {'Price': 80,\n",
              "  'Quantity': 25,\n",
              "  'Weight': '1kg',\n",
              "  'category': 'pulses',\n",
              "  'name': 'moond dal'},\n",
              " '1007': {'Price': 100,\n",
              "  'Quantity': 25,\n",
              "  'Weight': '250gm',\n",
              "  'category': 'Fast food',\n",
              "  'name': 'pizza sauce'},\n",
              " '1008': {'Price': 30,\n",
              "  'Quantity': 20,\n",
              "  'Weight': '75gm',\n",
              "  'category': 'Fast food',\n",
              "  'name': 'maggie'},\n",
              " '1009': {'Price': 105,\n",
              "  'Quantity': 200,\n",
              "  'Weight': '75gm',\n",
              "  'category': 'Drink',\n",
              "  'name': 'Cofee'},\n",
              " '1010': {'Price': 150,\n",
              "  'Quantity': 25,\n",
              "  'Weight': '150gm',\n",
              "  'category': 'Fast food',\n",
              "  'name': 'macroni'},\n",
              " '1011': {'Price': '40',\n",
              "  'Quantity': '50',\n",
              "  'Weight': '25gm',\n",
              "  'category': 'cadburry',\n",
              "  'name': 'Dairymilk'},\n",
              " '1012': {'Price': '230',\n",
              "  'Quantity': '60',\n",
              "  'Weight': '241gm',\n",
              "  'category': 'Fast Food',\n",
              "  'name': 'Mayonnaise'},\n",
              " '1013': {'Price': '100',\n",
              "  'Quantity': '50',\n",
              "  'Weight': '150gm',\n",
              "  'category': 'Fast Food',\n",
              "  'name': 'tomato sauce'},\n",
              " '1014': {'Price': '40',\n",
              "  'Quantity': '40',\n",
              "  'Weight': '50gm',\n",
              "  'category': 'Fast Food',\n",
              "  'name': 'Maggie pasta'},\n",
              " '1015': {'Price': '70',\n",
              "  'Quantity': '40',\n",
              "  'Weight': '100gm',\n",
              "  'category': 'Fast Food',\n",
              "  'name': 'red chilli sauce'},\n",
              " '1016': {'Price': '60',\n",
              "  'Quantity': '50',\n",
              "  'Weight': '100gm',\n",
              "  'category': 'Fast Food',\n",
              "  'name': ' Hakka Noodles'},\n",
              " '1017': {'Price': '25',\n",
              "  'Quantity': '60',\n",
              "  'Weight': '75gm',\n",
              "  'category': 'Snack',\n",
              "  'name': 'good day biscuit'},\n",
              " '1018': {'Price': '10',\n",
              "  'Quantity': '60',\n",
              "  'Weight': '50gm',\n",
              "  'category': 'Snack',\n",
              "  'name': 'parle marie'},\n",
              " '1019': {'Price': '25',\n",
              "  'Quantity': '60',\n",
              "  'Weight': '50gm',\n",
              "  'category': 'snack',\n",
              "  'name': 'Bourbon biscuit'},\n",
              " '1020': {'Price': '30',\n",
              "  'Quantity': '60',\n",
              "  'Weight': '250gm',\n",
              "  'category': 'snacks',\n",
              "  'name': 'oreo'},\n",
              " '1021': {'Price': '40',\n",
              "  'Quantity': '100',\n",
              "  'Weight': '40gm',\n",
              "  'category': 'Drink',\n",
              "  'name': 'Cold cofee'},\n",
              " '1022': {'Price': '40',\n",
              "  'Quantity': '60',\n",
              "  'Weight': '50gm',\n",
              "  'category': 'cold drink',\n",
              "  'name': 'Milk shake'},\n",
              " '1023': {'Price': '50',\n",
              "  'Quantity': '90',\n",
              "  'Weight': '1ltr',\n",
              "  'category': 'cold drink',\n",
              "  'name': 'Fanta'},\n",
              " '1024': {'Price': '70',\n",
              "  'Quantity': '70',\n",
              "  'Weight': '1ltr',\n",
              "  'category': 'cold drink',\n",
              "  'name': 'Thumbs up'},\n",
              " '1025': {'Price': '50',\n",
              "  'Quantity': '60',\n",
              "  'Weight': '1ltr',\n",
              "  'category': 'cold drink',\n",
              "  'name': 'Sprite'},\n",
              " '1026': {'Price': '40',\n",
              "  'Quantity': '30',\n",
              "  'Weight': '1ltr',\n",
              "  'category': 'Drink',\n",
              "  'name': 'Milk'},\n",
              " '1027': {'Price': '10',\n",
              "  'Quantity': '50',\n",
              "  'Weight': '10gm',\n",
              "  'category': 'drink',\n",
              "  'name': 'Tea'},\n",
              " '1028': {'Price': '25',\n",
              "  'Quantity': '50',\n",
              "  'Weight': '20gm',\n",
              "  'category': 'Dessert',\n",
              "  'name': 'Vanilla icecream'},\n",
              " '1029': {'Price': '30',\n",
              "  'Quantity': '50',\n",
              "  'Weight': '20gm',\n",
              "  'category': 'Dessert',\n",
              "  'name': 'Mango icecream'},\n",
              " '1030': {'Price': '30',\n",
              "  'Quantity': '40',\n",
              "  'Weight': '20gm',\n",
              "  'category': 'Dessert',\n",
              "  'name': 'Butterscotch icecream'}}"
            ]
          },
          "metadata": {},
          "execution_count": 13
        }
      ]
    },
    {
      "cell_type": "markdown",
      "metadata": {
        "id": "4VMmqvoXiGxT"
      },
      "source": [
        "#Purchase"
      ]
    },
    {
      "cell_type": "code",
      "metadata": {
        "colab": {
          "base_uri": "https://localhost:8080/"
        },
        "id": "ctW13uRniKTA",
        "outputId": "b6f56267-cfc1-4212-c1d9-a8eb9c633d7f"
      },
      "source": [
        "5\n",
        "ui_prod_id = (input(\"Enter product id:\"))\n",
        "if (int(ui_prod_id)<= 1030):\n",
        "  print (\"************************************************\")\n",
        "  print (\"product available\")\n",
        "  print (\"__________________________________________________\")\n",
        "  \n",
        "  ui_quant= int(input(\"Enter Quantity\"))\n",
        "  if ( ui_quant <= int(Record[ui_prod_id][\"Quantity\"])):\n",
        "    print (\"Product Name:\",Record[ui_prod_id][\"name\"])\n",
        "    print (\"Product Category:\",Record[ui_prod_id][\"category\"])\n",
        "    print (\"Product price:\",Record[ui_prod_id][\"Price\"])\n",
        "    print (\"Product weight:\",Record[ui_prod_id][\"Weight\"])\n",
        "    print (\"Quantity:\", ui_quant)\n",
        "    print (\"___________________________________________________\")\n",
        "    print (\"Billing Amount\",ui_quant* int(Record[ui_prod_id][\"Price\"]))\n",
        "    print (\"************************************************\")\n",
        "  else:\n",
        "    print (\"Available quantity is less than ordered one\")\n",
        "else:\n",
        "  print (\"product id is not valid\")\n",
        "\n",
        " \n",
        "  "
      ],
      "execution_count": null,
      "outputs": [
        {
          "output_type": "stream",
          "name": "stdout",
          "text": [
            "Enter product id:1027\n",
            "************************************************\n",
            "product available\n",
            "__________________________________________________\n",
            "Enter Quantity6\n",
            "Product Name: Tea\n",
            "Product Category: drink\n",
            "Product price: 10\n",
            "Product weight: 10gm\n",
            "Quantity: 6\n",
            "___________________________________________________\n",
            "Billing Amount 60\n",
            "************************************************\n"
          ]
        }
      ]
    },
    {
      "cell_type": "code",
      "metadata": {
        "id": "LOmBbjHxiK-A"
      },
      "source": [
        "Record[ui_prod_id][\"Quantity\"]=  int(Record[ui_prod_id][\"Quantity\"])- ui_quant\n",
        "js = json.dumps(Record)\n",
        "\n",
        "fd= open(\"Record.json\",'w')\n",
        "fd.write(js)\n",
        "fd.close()"
      ],
      "execution_count": null,
      "outputs": []
    },
    {
      "cell_type": "code",
      "metadata": {
        "colab": {
          "base_uri": "https://localhost:8080/"
        },
        "id": "u-2MZ1Raq5gK",
        "outputId": "477c7b1f-5c47-4d78-c6f9-b480bea1ff31"
      },
      "source": [
        "Record"
      ],
      "execution_count": null,
      "outputs": [
        {
          "output_type": "execute_result",
          "data": {
            "text/plain": [
              "{'1001': {'Price': 46,\n",
              "  'Quantity': 50,\n",
              "  'Weight': '1kg',\n",
              "  'category': 'cereals',\n",
              "  'name': 'wheat'},\n",
              " '1002': {'Price': 52,\n",
              "  'Quantity': 30,\n",
              "  'Weight': '1kg',\n",
              "  'category': 'cereals',\n",
              "  'name': 'rice'},\n",
              " '1003': {'Price': 95,\n",
              "  'Quantity': 35,\n",
              "  'Weight': '1kg',\n",
              "  'category': 'pulses',\n",
              "  'name': 'toor dal'},\n",
              " '1004': {'Price': 50,\n",
              "  'Quantity': 50,\n",
              "  'Weight': '100gm',\n",
              "  'category': 'Bakery product',\n",
              "  'name': 'Bread'},\n",
              " '1005': {'Price': 250,\n",
              "  'Quantity': 20,\n",
              "  'Weight': '6pcs',\n",
              "  'category': 'Crockery',\n",
              "  'name': 'Cup'},\n",
              " '1006': {'Price': 80,\n",
              "  'Quantity': 20,\n",
              "  'Weight': '1kg',\n",
              "  'category': 'pulses',\n",
              "  'name': 'moond dal'},\n",
              " '1007': {'Price': 100,\n",
              "  'Quantity': 25,\n",
              "  'Weight': '250gm',\n",
              "  'category': 'Fast food',\n",
              "  'name': 'pizza sauce'},\n",
              " '1008': {'Price': 30,\n",
              "  'Quantity': 20,\n",
              "  'Weight': '75gm',\n",
              "  'category': 'Fast food',\n",
              "  'name': 'maggie'},\n",
              " '1009': {'Price': 105,\n",
              "  'Quantity': 200,\n",
              "  'Weight': '75gm',\n",
              "  'category': 'Drink',\n",
              "  'name': 'Cofee'},\n",
              " '1010': {'Price': 150,\n",
              "  'Quantity': 25,\n",
              "  'Weight': '150gm',\n",
              "  'category': 'Fast food',\n",
              "  'name': 'macroni'},\n",
              " '1011': {'Price': '40',\n",
              "  'Quantity': 48,\n",
              "  'Weight': '25gm',\n",
              "  'category': 'cadburry',\n",
              "  'name': 'Dairymilk'},\n",
              " '1012': {'Price': '230',\n",
              "  'Quantity': '60',\n",
              "  'Weight': '241gm',\n",
              "  'category': 'Fast Food',\n",
              "  'name': 'Mayonnaise'},\n",
              " '1013': {'Price': '100',\n",
              "  'Quantity': '50',\n",
              "  'Weight': '150gm',\n",
              "  'category': 'Fast Food',\n",
              "  'name': 'tomato sauce'},\n",
              " '1014': {'Price': '40',\n",
              "  'Quantity': '40',\n",
              "  'Weight': '50gm',\n",
              "  'category': 'Fast Food',\n",
              "  'name': 'Maggie pasta'},\n",
              " '1015': {'Price': '70',\n",
              "  'Quantity': '40',\n",
              "  'Weight': '100gm',\n",
              "  'category': 'Fast Food',\n",
              "  'name': 'red chilli sauce'},\n",
              " '1016': {'Price': '60',\n",
              "  'Quantity': '50',\n",
              "  'Weight': '100gm',\n",
              "  'category': 'Fast Food',\n",
              "  'name': ' Hakka Noodles'},\n",
              " '1017': {'Price': '25',\n",
              "  'Quantity': '60',\n",
              "  'Weight': '75gm',\n",
              "  'category': 'Snack',\n",
              "  'name': 'good day biscuit'},\n",
              " '1018': {'Price': '10',\n",
              "  'Quantity': '60',\n",
              "  'Weight': '50gm',\n",
              "  'category': 'Snack',\n",
              "  'name': 'parle marie'},\n",
              " '1019': {'Price': '25',\n",
              "  'Quantity': '60',\n",
              "  'Weight': '50gm',\n",
              "  'category': 'snack',\n",
              "  'name': 'Bourbon biscuit'},\n",
              " '1020': {'Price': '30',\n",
              "  'Quantity': '60',\n",
              "  'Weight': '250gm',\n",
              "  'category': 'snacks',\n",
              "  'name': 'oreo'},\n",
              " '1021': {'Price': '40',\n",
              "  'Quantity': '100',\n",
              "  'Weight': '40gm',\n",
              "  'category': 'Drink',\n",
              "  'name': 'Cold cofee'},\n",
              " '1022': {'Price': '40',\n",
              "  'Quantity': '60',\n",
              "  'Weight': '50gm',\n",
              "  'category': 'cold drink',\n",
              "  'name': 'Milk shake'},\n",
              " '1023': {'Price': '50',\n",
              "  'Quantity': '90',\n",
              "  'Weight': '1ltr',\n",
              "  'category': 'cold drink',\n",
              "  'name': 'Fanta'},\n",
              " '1024': {'Price': '70',\n",
              "  'Quantity': '70',\n",
              "  'Weight': '1ltr',\n",
              "  'category': 'cold drink',\n",
              "  'name': 'Thumbs up'},\n",
              " '1025': {'Price': '50',\n",
              "  'Quantity': '60',\n",
              "  'Weight': '1ltr',\n",
              "  'category': 'cold drink',\n",
              "  'name': 'Sprite'},\n",
              " '1026': {'Price': '40',\n",
              "  'Quantity': '30',\n",
              "  'Weight': '1ltr',\n",
              "  'category': 'Drink',\n",
              "  'name': 'Milk'},\n",
              " '1027': {'Price': '10',\n",
              "  'Quantity': 44,\n",
              "  'Weight': '10gm',\n",
              "  'category': 'drink',\n",
              "  'name': 'Tea'},\n",
              " '1028': {'Price': '25',\n",
              "  'Quantity': '50',\n",
              "  'Weight': '20gm',\n",
              "  'category': 'Dessert',\n",
              "  'name': 'Vanilla icecream'},\n",
              " '1029': {'Price': '30',\n",
              "  'Quantity': '50',\n",
              "  'Weight': '20gm',\n",
              "  'category': 'Dessert',\n",
              "  'name': 'Mango icecream'},\n",
              " '1030': {'Price': '30',\n",
              "  'Quantity': '40',\n",
              "  'Weight': '20gm',\n",
              "  'category': 'Dessert',\n",
              "  'name': 'Butterscotch icecream'}}"
            ]
          },
          "metadata": {},
          "execution_count": 38
        }
      ]
    },
    {
      "cell_type": "markdown",
      "metadata": {
        "id": "AeZWO4XArEiK"
      },
      "source": [
        "#Sales json"
      ]
    },
    {
      "cell_type": "code",
      "metadata": {
        "id": "hc5P5qy-kPQE"
      },
      "source": [
        "Sales= {1:{\"prod\":ui_prod_id, \"qn\": ui_quant,\"amount\": Record[ui_prod_id][\"Price\"]*ui_quant}}\n",
        "        \n",
        "Sales[len(Sales)+1]= {\"prod\": ui_prod_id, \"qn\": ui_quant,\"amount\": int(Record[ui_prod_id][\"Price\"])*ui_quant} "
      ],
      "execution_count": null,
      "outputs": []
    },
    {
      "cell_type": "code",
      "metadata": {
        "id": "1B4NuHWOrrym"
      },
      "source": [
        "sale= json.dumps(Sales)\n",
        "fd= open(\"Sales.json\",'w')\n",
        "fd.write(sale)\n",
        "fd.close()\n"
      ],
      "execution_count": null,
      "outputs": []
    },
    {
      "cell_type": "code",
      "metadata": {
        "colab": {
          "base_uri": "https://localhost:8080/"
        },
        "id": "NnWS0TCjjald",
        "outputId": "6388aeef-eadb-485c-b9f3-f8ca855ed6c3"
      },
      "source": [
        "Sales"
      ],
      "execution_count": null,
      "outputs": [
        {
          "output_type": "execute_result",
          "data": {
            "text/plain": [
              "{1: {'amount': '101010101010', 'prod': '1027', 'qn': 6},\n",
              " 2: {'amount': 60, 'prod': '1027', 'qn': 6}}"
            ]
          },
          "metadata": {},
          "execution_count": 41
        }
      ]
    }
  ]
}